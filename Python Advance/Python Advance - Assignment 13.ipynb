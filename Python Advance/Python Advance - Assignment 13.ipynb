{
 "cells": [
  {
   "cell_type": "markdown",
   "id": "72834059",
   "metadata": {},
   "source": [
    "# Assignment # 13 Solutions"
   ]
  },
  {
   "cell_type": "markdown",
   "id": "64489f64",
   "metadata": {},
   "source": [
    "### Q1. Can you create a programme or function that employs both positive and negative indexing? Is there any repercussion if you do so?"
   ]
  },
  {
   "cell_type": "code",
   "execution_count": 1,
   "id": "72c4c0f0",
   "metadata": {},
   "outputs": [
    {
     "name": "stdout",
     "output_type": "stream",
     "text": [
      "Positive Indexing -> 6\n",
      "Negative Indexing -> 13\n"
     ]
    }
   ],
   "source": [
    "my_list = [1,2,3,4,5,6,6,7,8,9,10,11,12,13]\n",
    "def bi_index(in_list,position):\n",
    "    return in_list[position]\n",
    "print('Positive Indexing ->',bi_index(my_list,5))\n",
    "print('Negative Indexing ->',bi_index(my_list,-1))"
   ]
  },
  {
   "cell_type": "markdown",
   "id": "03437f03",
   "metadata": {},
   "source": [
    "### Q2. What is the most effective way of starting with 1,000 elements in a Python list? Assume that all elements should be set to the same value."
   ]
  },
  {
   "cell_type": "code",
   "execution_count": 2,
   "id": "2a863b74",
   "metadata": {},
   "outputs": [
    {
     "name": "stdout",
     "output_type": "stream",
     "text": [
      "[1, 1, 1, 1, 1, 1, 1, 1, 1, 1, 1, 1, 1, 1, 1, 1, 1, 1, 1, 1, 1, 1, 1, 1, 1, 1, 1, 1, 1, 1, 1, 1, 1, 1, 1, 1, 1, 1, 1, 1, 1, 1, 1, 1, 1, 1, 1, 1, 1, 1, 1, 1, 1, 1, 1, 1, 1, 1, 1, 1, 1, 1, 1, 1, 1, 1, 1, 1, 1, 1, 1, 1, 1, 1, 1, 1, 1, 1, 1, 1, 1, 1, 1, 1, 1, 1, 1, 1, 1, 1, 1, 1, 1, 1, 1, 1, 1, 1, 1, 1, 1, 1, 1, 1, 1, 1, 1, 1, 1, 1, 1, 1, 1, 1, 1, 1, 1, 1, 1, 1, 1, 1, 1, 1, 1, 1, 1, 1, 1, 1, 1, 1, 1, 1, 1, 1, 1, 1, 1, 1, 1, 1, 1, 1, 1, 1, 1, 1, 1, 1, 1, 1, 1, 1, 1, 1, 1, 1, 1, 1, 1, 1, 1, 1, 1, 1, 1, 1, 1, 1, 1, 1, 1, 1, 1, 1, 1, 1, 1, 1, 1, 1, 1, 1, 1, 1, 1, 1, 1, 1, 1, 1, 1, 1, 1, 1, 1, 1, 1, 1, 1, 1, 1, 1, 1, 1, 1, 1, 1, 1, 1, 1, 1, 1, 1, 1, 1, 1, 1, 1, 1, 1, 1, 1, 1, 1, 1, 1, 1, 1, 1, 1, 1, 1, 1, 1, 1, 1, 1, 1, 1, 1, 1, 1, 1, 1, 1, 1, 1, 1, 1, 1, 1, 1, 1, 1, 1, 1, 1, 1, 1, 1, 1, 1, 1, 1, 1, 1, 1, 1, 1, 1, 1, 1, 1, 1, 1, 1, 1, 1, 1, 1, 1, 1, 1, 1, 1, 1, 1, 1, 1, 1, 1, 1, 1, 1, 1, 1, 1, 1, 1, 1, 1, 1, 1, 1, 1, 1, 1, 1, 1, 1, 1, 1, 1, 1, 1, 1, 1, 1, 1, 1, 1, 1, 1, 1, 1, 1, 1, 1, 1, 1, 1, 1, 1, 1, 1, 1, 1, 1, 1, 1, 1, 1, 1, 1, 1, 1, 1, 1, 1, 1, 1, 1, 1, 1, 1, 1, 1, 1, 1, 1, 1, 1, 1, 1, 1, 1, 1, 1, 1, 1, 1, 1, 1, 1, 1, 1, 1, 1, 1, 1, 1, 1, 1, 1, 1, 1, 1, 1, 1, 1, 1, 1, 1, 1, 1, 1, 1, 1, 1, 1, 1, 1, 1, 1, 1, 1, 1, 1, 1, 1, 1, 1, 1, 1, 1, 1, 1, 1, 1, 1, 1, 1, 1, 1, 1, 1, 1, 1, 1, 1, 1, 1, 1, 1, 1, 1, 1, 1, 1, 1, 1, 1, 1, 1, 1, 1, 1, 1, 1, 1, 1, 1, 1, 1, 1, 1, 1, 1, 1, 1, 1, 1, 1, 1, 1, 1, 1, 1, 1, 1, 1, 1, 1, 1, 1, 1, 1, 1, 1, 1, 1, 1, 1, 1, 1, 1, 1, 1, 1, 1, 1, 1, 1, 1, 1, 1, 1, 1, 1, 1, 1, 1, 1, 1, 1, 1, 1, 1, 1, 1, 1, 1, 1, 1, 1, 1, 1, 1, 1, 1, 1, 1, 1, 1, 1, 1, 1, 1, 1, 1, 1, 1, 1, 1, 1, 1, 1, 1, 1, 1, 1, 1, 1, 1, 1, 1, 1, 1, 1, 1, 1, 1, 1, 1, 1, 1, 1, 1, 1, 1, 1, 1, 1, 1, 1, 1, 1, 1, 1, 1, 1, 1, 1, 1, 1, 1, 1, 1, 1, 1, 1, 1, 1, 1, 1, 1, 1, 1, 1, 1, 1, 1, 1, 1, 1, 1, 1, 1, 1, 1, 1, 1, 1, 1, 1, 1, 1, 1, 1, 1, 1, 1, 1, 1, 1, 1, 1, 1, 1, 1, 1, 1, 1, 1, 1, 1, 1, 1, 1, 1, 1, 1, 1, 1, 1, 1, 1, 1, 1, 1, 1, 1, 1, 1, 1, 1, 1, 1, 1, 1, 1, 1, 1, 1, 1, 1, 1, 1, 1, 1, 1, 1, 1, 1, 1, 1, 1, 1, 1, 1, 1, 1, 1, 1, 1, 1, 1, 1, 1, 1, 1, 1, 1, 1, 1, 1, 1, 1, 1, 1, 1, 1, 1, 1, 1, 1, 1, 1, 1, 1, 1, 1, 1, 1, 1, 1, 1, 1, 1, 1, 1, 1, 1, 1, 1, 1, 1, 1, 1, 1, 1, 1, 1, 1, 1, 1, 1, 1, 1, 1, 1, 1, 1, 1, 1, 1, 1, 1, 1, 1, 1, 1, 1, 1, 1, 1, 1, 1, 1, 1, 1, 1, 1, 1, 1, 1, 1, 1, 1, 1, 1, 1, 1, 1, 1, 1, 1, 1, 1, 1, 1, 1, 1, 1, 1, 1, 1, 1, 1, 1, 1, 1, 1, 1, 1, 1, 1, 1, 1, 1, 1, 1, 1, 1, 1, 1, 1, 1, 1, 1, 1, 1, 1, 1, 1, 1, 1, 1, 1, 1, 1, 1, 1, 1, 1, 1, 1, 1, 1, 1, 1, 1, 1, 1, 1, 1, 1, 1, 1, 1, 1, 1, 1, 1, 1, 1, 1, 1, 1, 1, 1, 1, 1, 1, 1, 1, 1, 1, 1, 1, 1, 1, 1, 1, 1, 1, 1, 1, 1, 1, 1, 1, 1, 1, 1, 1, 1, 1, 1, 1, 1, 1, 1, 1, 1, 1, 1, 1, 1, 1, 1, 1, 1, 1, 1, 1, 1, 1, 1, 1, 1, 1, 1, 1, 1, 1, 1, 1, 1, 1, 1, 1, 1, 1, 1, 1, 1, 1, 1, 1, 1, 1, 1, 1, 1, 1, 1, 1, 1, 1, 1, 1, 1, 1, 1, 1, 1, 1, 1, 1, 1, 1, 1, 1, 1, 1, 1, 1, 1, 1, 1, 1, 1, 1, 1, 1, 1, 1, 1, 1, 1, 1, 1, 1, 1, 1, 1, 1, 1, 1, 1, 1, 1, 1, 1, 1, 1, 1, 1, 1, 1, 1, 1, 1, 1, 1, 1, 1, 1, 1, 1, 1, 1, 1, 1, 1, 1, 1, 1, 1, 1, 1, 1, 1, 1, 1, 1, 1, 1]\n"
     ]
    }
   ],
   "source": [
    "start_list = [1 for x in range(1001)] # Quick Way to Create a List Using List Comprehension\n",
    "print(start_list)"
   ]
  },
  {
   "cell_type": "markdown",
   "id": "9de6df14",
   "metadata": {},
   "source": [
    "### Q3. How do you slice a list to get any other part while missing the rest? (For example, suppose you want to make a new list with the elements first, third, fifth, seventh, and so on.)"
   ]
  },
  {
   "cell_type": "code",
   "execution_count": 4,
   "id": "c68c7700",
   "metadata": {},
   "outputs": [
    {
     "name": "stdout",
     "output_type": "stream",
     "text": [
      "my_list -> [1, 2, 3, 4, 5, 6, 7, 8, 9, 10, 11, 12, 13, 14, 15, 16, 17, 18, 19, 20, 21, 22, 23, 24]\n",
      "sliced_list -> [1, 3, 5, 7, 9, 11, 13, 15, 17, 19, 21, 23]\n"
     ]
    }
   ],
   "source": [
    "my_list = [x for x in range(1,25)]\n",
    "print(f'my_list -> {my_list}')\n",
    "sliced_list = my_list[::2]\n",
    "print(f'sliced_list -> {sliced_list}')"
   ]
  },
  {
   "cell_type": "markdown",
   "id": "98793a3c",
   "metadata": {},
   "source": [
    "### Q4. Explain the distinctions between indexing and slicing ?\n",
    "**Ans:** Indexing is used when we have to work on index level. While slicing are used over a range of items."
   ]
  },
  {
   "cell_type": "code",
   "execution_count": 5,
   "id": "bd0f1278",
   "metadata": {},
   "outputs": [
    {
     "name": "stdout",
     "output_type": "stream",
     "text": [
      "my_list -> [1, 2, 3, 4, 5, 6, 7, 8, 9, 10, 11, 12, 13, 14, 15, 16, 17, 18, 19, 20, 21, 22, 23, 24]\n",
      "Example of indexing -> (2, 6)\n",
      "Example of slicing -> [2, 3, 4, 5]\n"
     ]
    }
   ],
   "source": [
    "my_list = [x for x in range(1,25)]\n",
    "print(f'my_list -> {my_list}')\n",
    "print(f'Example of indexing -> {my_list[1], my_list[5]}')\n",
    "print(f'Example of slicing -> {my_list[1:5]}')"
   ]
  },
  {
   "cell_type": "markdown",
   "id": "cb37add9",
   "metadata": {},
   "source": [
    "### Q5. What happens if one of the slicing expression's indexes is out of range?\n",
    "**Ans:** If start index is out of range then it will return empty entity."
   ]
  },
  {
   "cell_type": "code",
   "execution_count": 6,
   "id": "c96cd257",
   "metadata": {},
   "outputs": [
    {
     "name": "stdout",
     "output_type": "stream",
     "text": [
      "my_list -> [1, 2, 3, 4, 5, 6, 7, 8, 9, 10, 11, 12, 13, 14, 15, 16, 17, 18, 19, 20, 21, 22, 23, 24]\n",
      "Case #1 -> [21, 22, 23, 24]\n",
      "Case #2 -> [11, 12, 13, 14, 15, 16, 17, 18, 19, 20, 21, 22, 23, 24]\n"
     ]
    }
   ],
   "source": [
    "my_list = [x for x in range(1,25)]\n",
    "my_list = [x for x in range(1,25)]\n",
    "print(f'my_list -> {my_list}')\n",
    "print(f'Case #1 -> {my_list[20:]}')\n",
    "print(f'Case #2 -> {my_list[10:100]}')"
   ]
  },
  {
   "cell_type": "markdown",
   "id": "2f96351e",
   "metadata": {},
   "source": [
    "### Q6. If you pass a list to a function, and if you want the function to be able to change the values of the list—so that the list is different after the function returns—what action should you do?\n",
    "**Ans:** Always use **`return`** statement, if we want the see the changes in the input list."
   ]
  },
  {
   "cell_type": "code",
   "execution_count": 7,
   "id": "ba10d986",
   "metadata": {},
   "outputs": [
    {
     "name": "stdout",
     "output_type": "stream",
     "text": [
      "[1, 2, 3, 4, 5, 6, 100]\n"
     ]
    }
   ],
   "source": [
    "my_list = [1,2,3,4,5,6]\n",
    "def modify_list(in_list):\n",
    "    in_list.append(100)\n",
    "    return in_list\n",
    "print(modify_list(my_list))"
   ]
  },
  {
   "cell_type": "markdown",
   "id": "191cdc21",
   "metadata": {},
   "source": [
    "### Q7. What is the concept of an unbalanced matrix?\n",
    "**Ans:** In Unbalanced Matrix number of rows is not same as number of columns."
   ]
  },
  {
   "cell_type": "code",
   "execution_count": 8,
   "id": "3f5f3051",
   "metadata": {},
   "outputs": [
    {
     "name": "stdout",
     "output_type": "stream",
     "text": [
      "Unbalanced\n"
     ]
    }
   ],
   "source": [
    "# Python3 program for the above approach\n",
    "# Define the size of the matrix\n",
    "N = 4\n",
    "M = 4\n",
    "\n",
    "# Function to check given matrix\n",
    "# balanced or unbalanced\n",
    "def balancedMatrix(mat):\n",
    "    \n",
    "    # Flag for check matrix is balanced\n",
    "    # or unbalanced\n",
    "    is_balanced = True\n",
    "    \n",
    "    # Iterate row until condition is true \n",
    "    i = 0\n",
    "    while i < N and is_balanced:\n",
    "        \n",
    "        # Iterate cols until condition is true\n",
    "        j = 0\n",
    "        while j < N and is_balanced:\n",
    "        \n",
    "            # Check for corner edge elements\n",
    "            if ((i == 0 or i == N - 1) and\n",
    "                (j == 0 or j == M - 1)):\n",
    "                if mat[i][j] >= 2:\n",
    "                    isbalanced = False\n",
    "            \n",
    "            # Check for border elements\n",
    "            elif (i == 0 or i == N - 1 or\n",
    "                j == 0 or j == M - 1):\n",
    "                if mat[i][j] >= 3:\n",
    "                    is_balanced = False\n",
    "                    \n",
    "            # Check for the middle ones\n",
    "            else:\n",
    "                if mat[i][j] >= 4:\n",
    "                    is_balanced = False\n",
    "            \n",
    "            j += 1\n",
    "        i += 1\n",
    "        \n",
    "    # Return balanced or not\n",
    "    if is_balanced:\n",
    "        return \"Balanced\"\n",
    "    else:\n",
    "        return \"Unbalanced\"\n",
    "    \n",
    "# Driver code\n",
    "\n",
    "# Given matrix mat[][]\n",
    "mat = [ [ 1, 2, 3, 4 ],\n",
    "        [ 3, 5, 2, 6 ],\n",
    "        [ 5, 3, 6, 1 ],\n",
    "        [ 9, 5, 6, 0 ] ]\n",
    "\n",
    "# Function call\n",
    "print(balancedMatrix(mat))"
   ]
  },
  {
   "cell_type": "markdown",
   "id": "f412eb20",
   "metadata": {},
   "source": [
    "### Q8. Why is it necessary to use either list comprehension or a loop to create arbitrarily large matrices?\n",
    "**Ans:** List comprehension or a Loop helps creation of large matrices easy. it also helps to implemeent and avoid manual errors. It also makes reading code easy. Also lot of time for manual feeding is reduced."
   ]
  },
  {
   "cell_type": "code",
   "execution_count": null,
   "id": "50c97eca",
   "metadata": {},
   "outputs": [],
   "source": []
  }
 ],
 "metadata": {
  "kernelspec": {
   "display_name": "Python 3 (ipykernel)",
   "language": "python",
   "name": "python3"
  },
  "language_info": {
   "codemirror_mode": {
    "name": "ipython",
    "version": 3
   },
   "file_extension": ".py",
   "mimetype": "text/x-python",
   "name": "python",
   "nbconvert_exporter": "python",
   "pygments_lexer": "ipython3",
   "version": "3.9.7"
  }
 },
 "nbformat": 4,
 "nbformat_minor": 5
}
