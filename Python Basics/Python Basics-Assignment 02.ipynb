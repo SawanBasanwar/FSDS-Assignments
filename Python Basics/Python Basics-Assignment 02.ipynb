{
 "cells": [
  {
   "cell_type": "markdown",
   "id": "32a6d25c",
   "metadata": {},
   "source": [
    "# Assignment #02 Solutions"
   ]
  },
  {
   "cell_type": "markdown",
   "id": "045490a9",
   "metadata": {},
   "source": [
    "### 1.What are the two values of the Boolean data type? How do you write them?\n",
    "**Ans:** `True` and `False` are two values of the boolen data types. We have to use capital T and F and with the rest of the word in lowercase. The type() of both False and True is bool. The type bool is built in, meaning it’s always available in Python and doesn’t need to be imported. However, the name itself isn’t a keyword in the language"
   ]
  },
  {
   "cell_type": "code",
   "execution_count": 1,
   "id": "c4699f6a",
   "metadata": {},
   "outputs": [
    {
     "name": "stdout",
     "output_type": "stream",
     "text": [
      "True <class 'bool'>\n",
      "False <class 'bool'>\n"
     ]
    }
   ],
   "source": [
    "a=True\n",
    "b=False\n",
    "print(a,type(a))\n",
    "print(b,type(b))"
   ]
  },
  {
   "cell_type": "markdown",
   "id": "28c93be9",
   "metadata": {},
   "source": [
    "### 2. What are the three different types of Boolean operators?\n",
    "**Ans:** The three different types of Boolean operators in python are: `are`, `and`, `not` Example: a>30 and b< 30"
   ]
  },
  {
   "cell_type": "code",
   "execution_count": 2,
   "id": "63911ece",
   "metadata": {},
   "outputs": [
    {
     "name": "stdout",
     "output_type": "stream",
     "text": [
      "True\n",
      "True\n",
      "False\n"
     ]
    }
   ],
   "source": [
    "a=100\n",
    "b=200\n",
    "print(a>50 and b>100) # Example of boolean and\n",
    "print(a>50 or b>100) # Example of boolean or\n",
    "print(not(a>13)) # Example of boolean not"
   ]
  },
  {
   "cell_type": "markdown",
   "id": "257c8b5d",
   "metadata": {},
   "source": [
    "### 3. Make a list of each Boolean operator's truth tables (i.e. every possible combination of Boolean values for the operator and what it evaluate ).\n",
    "**Ans:** The Truth tables for the boolean tables are as follows:  \n",
    "* **Truth Table for `and` operaotor**  \n",
    "    True and True ==> True   \n",
    "    True and False ==> False  \n",
    "    False and True ==> False  \n",
    "    False and False ==> False\n",
    "    \n",
    "    \n",
    "* **Truth Table for `or` operaotor**  \n",
    "    True or True ==> True   \n",
    "    True or False ==> True  \n",
    "    False or True ==> True  \n",
    "    False or False ==> False\n",
    "    \n",
    "    \n",
    "* **Truth Table for `not` operaotor**        \n",
    "    True not ==> False\n",
    "    False not ==> True"
   ]
  },
  {
   "cell_type": "markdown",
   "id": "e80cf662",
   "metadata": {},
   "source": [
    "### 4. What are the values of the following expressions?\n",
    "* (5 > 4) and (3 == 5)\n",
    "* not (5 > 4)\n",
    "* (5 > 4) or (3 == 5)\n",
    "* not ((5 > 4) or (3 == 5))\n",
    "* (True and True) and (True == False)\n",
    "* (not False) or (not True)\n"
   ]
  },
  {
   "cell_type": "code",
   "execution_count": 3,
   "id": "9a35951a",
   "metadata": {},
   "outputs": [
    {
     "name": "stdout",
     "output_type": "stream",
     "text": [
      "False\n",
      "False\n",
      "True\n",
      "False\n",
      "False\n",
      "True\n"
     ]
    }
   ],
   "source": [
    "print ((5 > 4) and (3 == 5)) #False\n",
    "print (not (5 > 4)) #False\n",
    "print ((5 > 4) or (3 == 5)) #True\n",
    "print (not ((5 > 4) or (3 == 5))) #False\n",
    "print ((True and True) and (True == False)) #False\n",
    "print ((not False) or (not True)) #  True\n"
   ]
  },
  {
   "cell_type": "markdown",
   "id": "c3471f45",
   "metadata": {},
   "source": [
    "### 5. What are the six comparison operators?\n",
    "**Ans:**  The Six comparision operators available in python are:  \n",
    "`==` ,\n",
    "`!=` ,\n",
    "`<` , \n",
    "`>` , \n",
    "`<=` ,\n",
    "`=>`"
   ]
  },
  {
   "cell_type": "markdown",
   "id": "fc51b4fd",
   "metadata": {},
   "source": [
    "### 6. How do you tell the difference between the equal to and assignment operators?Describe a condition and when you would use one.\n",
    "**Ans:** `==` is the equal to operator that compares two values and evaluates to a Boolean, while `=` is that assignment operator that stores a value in a variable."
   ]
  },
  {
   "cell_type": "code",
   "execution_count": 4,
   "id": "2384c5b3",
   "metadata": {},
   "outputs": [
    {
     "name": "stdout",
     "output_type": "stream",
     "text": [
      "True\n"
     ]
    }
   ],
   "source": [
    "a=10 # Assigning operator that stores 3 value in a variable a\n",
    "if a==10:#comparing values of a varible value and 3\n",
    "    print(a==10) "
   ]
  },
  {
   "cell_type": "markdown",
   "id": "171cb0d0",
   "metadata": {},
   "source": [
    "### 7. Identify the three blocks in this code:\n",
    "spam = 0  \n",
    "if spam == 10:  \n",
    "print('eggs')  \n",
    "if spam > 5:  \n",
    "print('bacon')  \n",
    "else:  \n",
    "print('ham')  \n",
    "print('spam')  \n",
    "print('spam')\n",
    "\n",
    "**Ans**: In Python, code block refers to a collection of code that is in the same block or indent. This is most commonly found in classes, functions, and loops."
   ]
  },
  {
   "cell_type": "code",
   "execution_count": 5,
   "id": "10710196",
   "metadata": {},
   "outputs": [
    {
     "name": "stdout",
     "output_type": "stream",
     "text": [
      "ham\n",
      "spam\n",
      "spam\n"
     ]
    }
   ],
   "source": [
    "spam = 0\n",
    "if spam == 10:\n",
    "    print('eggs')\n",
    "if spam > 5:\n",
    "    print('bacon')\n",
    "else:\n",
    "    print('ham')\n",
    "print('spam')\n",
    "print('spam')"
   ]
  },
  {
   "cell_type": "markdown",
   "id": "5f2da15c",
   "metadata": {},
   "source": [
    "### 8. Write code that prints Hello if 1 is stored in spam, prints Howdy if 2 is stored in spam, and prints Greetings! if anything else is stored in spam."
   ]
  },
  {
   "cell_type": "code",
   "execution_count": 6,
   "id": "7ea57293",
   "metadata": {},
   "outputs": [
    {
     "name": "stdout",
     "output_type": "stream",
     "text": [
      "Hello\n",
      "Howdy\n",
      "Greetings\n"
     ]
    }
   ],
   "source": [
    "def spamcode(spam):\n",
    "    if spam == 1:\n",
    "        print('Hello')\n",
    "    elif spam == 2:\n",
    "        print('Howdy')\n",
    "    else:\n",
    "        print('Greetings')\n",
    "spamcode(1)\n",
    "spamcode(2)\n",
    "spamcode(3)"
   ]
  },
  {
   "cell_type": "markdown",
   "id": "04cf5834",
   "metadata": {},
   "source": [
    "### 9.If your programme is stuck in an endless loop, what keys you’ll press?\n",
    "**Ans:** To stop a program stuck in an infinite loop, we press `Ctrl-c`."
   ]
  },
  {
   "cell_type": "markdown",
   "id": "856bada2",
   "metadata": {},
   "source": [
    "### 10. How can you tell the difference between break and continue?\n",
    "**Ans:** The `break` statement will move the execution outside the loop if break condtion is satisfied. Whereas the `continue` statement will move the execution to the start of the loop."
   ]
  },
  {
   "cell_type": "code",
   "execution_count": 7,
   "id": "4fc6dcba",
   "metadata": {},
   "outputs": [
    {
     "name": "stdout",
     "output_type": "stream",
     "text": [
      "s\n",
      "a\n",
      "The end\n"
     ]
    }
   ],
   "source": [
    "# Use of break statement inside the loop\n",
    "\n",
    "for val in \"sawan\":\n",
    "    if val == \"w\":\n",
    "        break\n",
    "    print(val)\n",
    "\n",
    "print(\"The end\")"
   ]
  },
  {
   "cell_type": "code",
   "execution_count": 8,
   "id": "09b6f56b",
   "metadata": {},
   "outputs": [
    {
     "name": "stdout",
     "output_type": "stream",
     "text": [
      "s\n",
      "a\n",
      "a\n",
      "n\n",
      "The end\n"
     ]
    }
   ],
   "source": [
    "# Program to show the use of continue statement inside loops\n",
    "\n",
    "for val in \"sawan\":\n",
    "    if val == \"w\":\n",
    "        continue\n",
    "    print(val)\n",
    "\n",
    "print(\"The end\")"
   ]
  },
  {
   "cell_type": "markdown",
   "id": "bcab466b",
   "metadata": {},
   "source": [
    "### 11. In a for loop, what is the difference between range(10), range(0, 10), and range(0, 10, 1)?\n",
    "**Ans:** The Differences are as follows:  \n",
    "1. The _**range(10)**_ call range from 0 to 9 (but not include 10)  \n",
    "2. The _**range (0,10)**_ explicitly tells the loop to start at 0  \n",
    "3. The _**range(0,10,1)**_ explicitly tells the loop to increase the variable by 1 on each iteration"
   ]
  },
  {
   "cell_type": "code",
   "execution_count": 9,
   "id": "14c386d8",
   "metadata": {},
   "outputs": [
    {
     "name": "stdout",
     "output_type": "stream",
     "text": [
      "0 1 2 3 4 5 6 7 8 9 \n"
     ]
    }
   ],
   "source": [
    "# range(10)\n",
    "for i in range(10):\n",
    "    print(i, end=\" \")\n",
    "print()"
   ]
  },
  {
   "cell_type": "code",
   "execution_count": 10,
   "id": "3f7ddc08",
   "metadata": {},
   "outputs": [
    {
     "name": "stdout",
     "output_type": "stream",
     "text": [
      "0 1 2 3 4 5 6 7 8 9 \n"
     ]
    }
   ],
   "source": [
    "# range(0,10)\n",
    "for i in range(0, 10):\n",
    "    print(i, end=\" \")\n",
    "print()"
   ]
  },
  {
   "cell_type": "code",
   "execution_count": 11,
   "id": "5029ed33",
   "metadata": {},
   "outputs": [
    {
     "name": "stdout",
     "output_type": "stream",
     "text": [
      "0 1 2 3 4 5 6 7 8 9 \n"
     ]
    }
   ],
   "source": [
    "# range(0,10,1)\n",
    "for i in range(0, 10, 1):\n",
    "    print(i, end=\" \")\n",
    "print()"
   ]
  },
  {
   "cell_type": "markdown",
   "id": "10fcdaf6",
   "metadata": {},
   "source": [
    "### 12. Write a short program that prints the numbers 1 to 10 using a for loop. Then write an equivalent program that prints the numbers 1 to 10 using a while loop."
   ]
  },
  {
   "cell_type": "code",
   "execution_count": 12,
   "id": "306dec22",
   "metadata": {},
   "outputs": [
    {
     "name": "stdout",
     "output_type": "stream",
     "text": [
      "---------- Using For Loop ----------\n",
      "1 2 3 4 5 6 7 8 9 10 \n",
      "\n",
      "---------- Using While Loop ----------\n",
      "1 2 3 4 5 6 7 8 9 10 "
     ]
    }
   ],
   "source": [
    "print('-'*10,'Using For Loop','-'*10)\n",
    "for i in range(1,11):\n",
    "    print(i, end=\" \")\n",
    "print('\\n')\n",
    "print('-'*10,'Using While Loop','-'*10) \n",
    "i=1\n",
    "while i<=10:\n",
    "    print(i, end=\" \")\n",
    "    i+=1"
   ]
  },
  {
   "cell_type": "markdown",
   "id": "e595b90c",
   "metadata": {},
   "source": [
    "### 13. If you had a function named bacon() inside a module named spam, how would you call it after importing spam ?\n",
    "**Ans:** This function can be called with `spam.bacon()`"
   ]
  },
  {
   "cell_type": "code",
   "execution_count": null,
   "id": "4facadde",
   "metadata": {},
   "outputs": [],
   "source": []
  }
 ],
 "metadata": {
  "kernelspec": {
   "display_name": "Python 3 (ipykernel)",
   "language": "python",
   "name": "python3"
  },
  "language_info": {
   "codemirror_mode": {
    "name": "ipython",
    "version": 3
   },
   "file_extension": ".py",
   "mimetype": "text/x-python",
   "name": "python",
   "nbconvert_exporter": "python",
   "pygments_lexer": "ipython3",
   "version": "3.9.7"
  }
 },
 "nbformat": 4,
 "nbformat_minor": 5
}
