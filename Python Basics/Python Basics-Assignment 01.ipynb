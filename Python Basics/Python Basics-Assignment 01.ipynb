{
 "cells": [
  {
   "cell_type": "markdown",
   "id": "5e17019a",
   "metadata": {},
   "source": [
    "# Assignment #01 Solutions"
   ]
  },
  {
   "cell_type": "markdown",
   "id": "646ea0af",
   "metadata": {},
   "source": [
    "### 1. In the below elements which of them are values or an expression? **eg:-** values can be integer or string and expressions will be mathematical operators.  \n",
    "`*`,`'hello'`, `-87.8`,`-`,`/`,`+`,`6`\n",
    "\n",
    "**Ans:** There are a total of 4 Operators and 3 Expressions, They are:  \n",
    "**Operators:** `*`,`-`,`/`,`+`  \n",
    "**Expressions:** `'hello'`, `87.8`, `6`"
   ]
  },
  {
   "cell_type": "markdown",
   "id": "f2084153",
   "metadata": {},
   "source": [
    "### 2. What is the difference between string and variable?\n",
    "\n",
    "**Ans:**A Variable is used to store of information, and a String is a type of information you would store in a Variable. A variable is created the moment you first assign a value to it. Example: x = 3, y = \"Sawan\". Here x and y are variables.\n",
    "A String is a group of characters or a single character usually enclosed in Double quotes \" \" or single quotes ' '."
   ]
  },
  {
   "cell_type": "markdown",
   "id": "06fdfac3",
   "metadata": {},
   "source": [
    "### 3. Describe three different data types.\n",
    "**Ans:** Three fundamental Data types in python are `int`, `float`, `complex`.\n",
    "\n",
    "1. **int data type:** We can use int data type to represent whole numbers (integral values) Example: int_num=10,\n",
    "2. **float data type:** We can use float data type to represent floating point values (decimal values) Example: flo_num=3.33\n",
    "3. **complex data type:** Complex number is represented by complex class. It is specified as (real part) + (imaginary part)j. Example: com_num=2+7j"
   ]
  },
  {
   "cell_type": "code",
   "execution_count": 1,
   "id": "76aeea71",
   "metadata": {},
   "outputs": [
    {
     "name": "stdout",
     "output_type": "stream",
     "text": [
      "10 <class 'int'>\n",
      "3.33 <class 'float'>\n",
      "(2+7j) <class 'complex'>\n"
     ]
    }
   ],
   "source": [
    "# Example for int data type\n",
    "int_num=10\n",
    "print(int_num, type(int_num))\n",
    "# Example for float data type\n",
    "flo_num=3.33\n",
    "print(flo_num, type(flo_num))\n",
    "# Example for Complex data type\n",
    "com_num=2+7j\n",
    "print(com_num, type(com_num))"
   ]
  },
  {
   "cell_type": "markdown",
   "id": "d8a4951f",
   "metadata": {},
   "source": [
    "### 4. What is an expression made up of? What do all expressions do?\n",
    "**Ans:**  An expression is a combination of values, variables, operators, and calls to functions. Expressions need to be evaluated. If we ask Python to print an expression, the interpreter evaluates the expression and displays the result. An expression is evaluated as per the precedence of its operators. So that if there is more than one operator in an expression, their precedence decides which operation will be performed first."
   ]
  },
  {
   "cell_type": "code",
   "execution_count": 2,
   "id": "15373183",
   "metadata": {},
   "outputs": [
    {
     "data": {
      "text/plain": [
       "10"
      ]
     },
     "execution_count": 2,
     "metadata": {},
     "output_type": "execute_result"
    }
   ],
   "source": [
    "12*5+30-80 # Is an Expression, The Python Interpreter Evaluates it to 10"
   ]
  },
  {
   "cell_type": "markdown",
   "id": "49abfbfa",
   "metadata": {},
   "source": [
    "### 5. This assignment statements, like spam = 10. What is the difference between an expression and a statement?\n",
    "**Ans:** An **expression** is a combination of values, variables, and operators.When we type an expression at the prompt, the interpreter evaluates it, which means that it finds the value of the expression.An expression is evaluated as per the precedence of its operators. So that if there is more than one operator in an expression, their precedence decides which operation will be performed first.\n",
    "\n",
    "**eg**: `12*5+30-80` is an example of a expression\n",
    "\n",
    "A **statement** is a unit of code that has an effect, like creating a variable or displaying a value.When we type a statement, the interpreter executes it, which means that it does whatever the statement says. In general, statements don’t have values. A statement is an instruction that a Python interpreter can execute. There are mainly four types of statements in Python, Print statements, Assignment statements, Conditional statements and Looping statements.\n",
    "\n",
    "**eg**: courseName = 'Fullstack Datascience', spam = 10"
   ]
  },
  {
   "cell_type": "code",
   "execution_count": 3,
   "id": "e124c2f0",
   "metadata": {},
   "outputs": [
    {
     "name": "stdout",
     "output_type": "stream",
     "text": [
      "iNeuron\n"
     ]
    }
   ],
   "source": [
    "#Example:\n",
    "12*5+30-80 # Is a Expression\n",
    "courseName = 'Fullstack Datascience' # Is a Statement\n",
    "print(\"iNeuron\") # Is a Expression Statement"
   ]
  },
  {
   "cell_type": "markdown",
   "id": "30433cad",
   "metadata": {},
   "source": [
    "### 6. After running the following code, what does the variable bacon contain?\n",
    "`bacon = 22`  \n",
    "`bacon + 1`\n",
    "\n",
    "**Ans:** The variable bacon is set to 22 .The expression `bacon + 1` does not reassign the value in bacon (that would the case if the expression is like `bacon = bacon + 1` instead of `bacon + 1`)"
   ]
  },
  {
   "cell_type": "code",
   "execution_count": 4,
   "id": "6cd0c3db",
   "metadata": {},
   "outputs": [
    {
     "name": "stdout",
     "output_type": "stream",
     "text": [
      "22\n"
     ]
    }
   ],
   "source": [
    "# Example Case#1\n",
    "bacon=22\n",
    "bacon + 1\n",
    "print(bacon)"
   ]
  },
  {
   "cell_type": "code",
   "execution_count": 5,
   "id": "3dca1c17",
   "metadata": {},
   "outputs": [
    {
     "name": "stdout",
     "output_type": "stream",
     "text": [
      "23\n"
     ]
    }
   ],
   "source": [
    "#Example Case#2\n",
    "bacon=22\n",
    "bacon=bacon+1 \n",
    "print(bacon)"
   ]
  },
  {
   "cell_type": "markdown",
   "id": "f9fafe3c",
   "metadata": {},
   "source": [
    "### 7. What should the values of the following two terms be?\n",
    "`'spam' + 'spamspam'`  \n",
    "`'spam' * 3`\n",
    "\n",
    "**Ans:** Both expressions evaluate to the string **`'spamspamspam'`**\n",
    "Where as the first expression follows `String Concatentation` and the second expression follows `String Multiplication`\n"
   ]
  },
  {
   "cell_type": "code",
   "execution_count": 6,
   "id": "b0f73454",
   "metadata": {},
   "outputs": [
    {
     "name": "stdout",
     "output_type": "stream",
     "text": [
      "spamspamspam\n",
      "spamspamspam\n"
     ]
    }
   ],
   "source": [
    "print('spam'+'spamspam') # string concatenation\n",
    "print('spam'*3) # string multiplication"
   ]
  },
  {
   "cell_type": "markdown",
   "id": "cfd0208d",
   "metadata": {},
   "source": [
    "### 8. Why is eggs a valid variable name while 100 is invalid?\n",
    "**Ans:** As per python,Variable names cannot begin with a number. The python rules for naming a variable are :-\n",
    "\n",
    "1. Variable name must start with a letter or the underscore character.\n",
    "2. Variable name cannot start with a number.\n",
    "3. Variable name can only contain alpha-numeric characters and underscores (A-z, 0-9, & _ ).\n",
    "4. Variable names are case-sensitive (`name`, `INEURON` and `ineuron` are three different variables).\n",
    "5. The reserved words(keywords) cannot be used naming the variable."
   ]
  },
  {
   "cell_type": "code",
   "execution_count": 7,
   "id": "cfc0c939",
   "metadata": {},
   "outputs": [
    {
     "ename": "SyntaxError",
     "evalue": "cannot assign to literal (Temp/ipykernel_10032/2267234856.py, line 2)",
     "output_type": "error",
     "traceback": [
      "\u001b[1;36m  File \u001b[1;32m\"C:\\Users\\91839\\AppData\\Local\\Temp/ipykernel_10032/2267234856.py\"\u001b[1;36m, line \u001b[1;32m2\u001b[0m\n\u001b[1;33m    100='sawan' # Invalid Variable Initilization\u001b[0m\n\u001b[1;37m    ^\u001b[0m\n\u001b[1;31mSyntaxError\u001b[0m\u001b[1;31m:\u001b[0m cannot assign to literal\n"
     ]
    }
   ],
   "source": [
    "egg='Sawan' # Valid variable Initilization\n",
    "100='sawan' # Invalid Variable Initilization\n",
    "print(egg) #prints the value of egg ie Ineuron\n",
    "print(100) # Raises a Syntax Error as 100 is not a valid variable name"
   ]
  },
  {
   "cell_type": "markdown",
   "id": "c740de6c",
   "metadata": {},
   "source": [
    "### 9. What three functions can be used to get the integer, floating-point number, or string version of a value?\n",
    "**Ans:** The `int()`,`float()`,and `str()` functions will evaluate to the integer,floating-point number,string version of the value passed to them."
   ]
  },
  {
   "cell_type": "code",
   "execution_count": 8,
   "id": "bab9fa73",
   "metadata": {},
   "outputs": [
    {
     "name": "stdout",
     "output_type": "stream",
     "text": [
      "int(10.0) ->  10\n",
      "float(10) ->  10.0\n",
      "str(10) ->  10\n"
     ]
    }
   ],
   "source": [
    "# Examples:\n",
    "print('int(10.0) -> ',int(10.0)) # int() function converts given input to int\n",
    "print('float(10) -> ',float(10)) # float() function converts given input to float\n",
    "print('str(10) -> ',str(10)) # str() function converts given input to string"
   ]
  },
  {
   "cell_type": "markdown",
   "id": "5c4c0be5",
   "metadata": {},
   "source": [
    "### 10. Why does this expression cause an error? How can you fix it?\n",
    "`'I have eaten ' + 99 + ' burritos.'`\n",
    "\n",
    "**Ans:** The cause of error is 99.because 99 is not a string. 99 must be typecasted to a string to fix this error. the correct way is:  \n",
    "**Input:** `'I have eaten ' + str(99) + 'burritos.'`  \n",
    "**Output:** `'I have eaten 99 burritos.'`\n"
   ]
  },
  {
   "cell_type": "code",
   "execution_count": 9,
   "id": "e5d10bae",
   "metadata": {},
   "outputs": [
    {
     "name": "stdout",
     "output_type": "stream",
     "text": [
      "I have eaten 99 burritos\n"
     ]
    }
   ],
   "source": [
    "print('I have eaten '+str(99)+' burritos')"
   ]
  }
 ],
 "metadata": {
  "kernelspec": {
   "display_name": "Python 3 (ipykernel)",
   "language": "python",
   "name": "python3"
  },
  "language_info": {
   "codemirror_mode": {
    "name": "ipython",
    "version": 3
   },
   "file_extension": ".py",
   "mimetype": "text/x-python",
   "name": "python",
   "nbconvert_exporter": "python",
   "pygments_lexer": "ipython3",
   "version": "3.9.7"
  }
 },
 "nbformat": 4,
 "nbformat_minor": 5
}
